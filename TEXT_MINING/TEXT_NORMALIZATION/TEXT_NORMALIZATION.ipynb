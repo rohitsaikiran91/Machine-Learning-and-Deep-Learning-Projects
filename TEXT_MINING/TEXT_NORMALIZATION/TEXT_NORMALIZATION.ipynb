{
 "cells": [
  {
   "cell_type": "markdown",
   "metadata": {},
   "source": [
    "## STEP 1: READ DATA FROM CSV"
   ]
  },
  {
   "cell_type": "code",
   "execution_count": null,
   "metadata": {},
   "outputs": [],
   "source": [
    "import csv\n",
    "id = []\n",
    "categories = []\n",
    "converse = []\n",
    "with open('train.csv',) as csvfile:\n",
    "    reader = csv.DictReader(csvfile)\n",
    "    for row in reader:\n",
    "        id.append(row['ID'])\n",
    "        categories.append(row['categories'])\n",
    "        converse.append(row['converse'])"
   ]
  },
  {
   "cell_type": "code",
   "execution_count": null,
   "metadata": {},
   "outputs": [],
   "source": [
    "df_woc = pd.read_csv('train.csv',index_col=False)\n",
    "df_test = pd.read_csv('test.csv',index_col=False)\n",
    "df_woc.converse=df_woc.converse.astype(str)\n",
    "df_test.converse=df_test.converse.astype(str)"
   ]
  },
  {
   "cell_type": "markdown",
   "metadata": {},
   "source": [
    "## LEMMETIZATION"
   ]
  },
  {
   "cell_type": "code",
   "execution_count": null,
   "metadata": {},
   "outputs": [],
   "source": [
    "w_tokenizer = nltk.tokenize.WhitespaceTokenizer()\n",
    "lemmatizer = nltk.stem.WordNetLemmatizer()\n",
    "def lemmatize_text(text):\n",
    "    return [lemmatizer.lemmatize(w) for w in w_tokenizer.tokenize(text)]\n",
    "\n",
    "df_woc['converse'] = df_woc['converse'].map(lambda x: lemmatize_text(x))\n",
    "\n",
    "df_test['converse'] = df_test['converse'].map(lambda x: lemmatize_text(x))"
   ]
  },
  {
   "cell_type": "code",
   "execution_count": null,
   "metadata": {},
   "outputs": [],
   "source": [
    "lmtzr = WordNetLemmatizer()\n",
    "def filter_lemmatizing_words(train_sentences):\n",
    "    for i,sentence in enumerate(train_sentences):\n",
    "        word_token = word_tokenize(sentence)\n",
    "        tokens_new2 = [lmtzr.lemmatize(token,pos=\"v\") for token in word_token]\n",
    "        train_sentences[i] = ' '.join(tokens_new2)\n",
    "    return train_sentences\n",
    "\n",
    "converse_stop = filter_lemmatizing_words(converse)"
   ]
  },
  {
   "cell_type": "markdown",
   "metadata": {},
   "source": [
    "## CONVERT TO DATAFRAME"
   ]
  },
  {
   "cell_type": "code",
   "execution_count": null,
   "metadata": {},
   "outputs": [],
   "source": [
    "Data = pd.DataFrame({'ID':id , 'categories':categories ,'converse':converse_stop})a"
   ]
  }
 ],
 "metadata": {
  "kernelspec": {
   "display_name": "Python 3",
   "language": "python",
   "name": "python3"
  },
  "language_info": {
   "codemirror_mode": {
    "name": "ipython",
    "version": 3
   },
   "file_extension": ".py",
   "mimetype": "text/x-python",
   "name": "python",
   "nbconvert_exporter": "python",
   "pygments_lexer": "ipython3",
   "version": "3.7.4"
  }
 },
 "nbformat": 4,
 "nbformat_minor": 2
}
